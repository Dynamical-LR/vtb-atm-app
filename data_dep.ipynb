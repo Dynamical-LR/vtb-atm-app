{
  "nbformat": 4,
  "nbformat_minor": 0,
  "metadata": {
    "colab": {
      "provenance": []
    },
    "kernelspec": {
      "name": "python3",
      "display_name": "Python 3"
    },
    "language_info": {
      "name": "python"
    }
  },
  "cells": [
    {
      "cell_type": "code",
      "source": [
        "!pip install nltk --upgrade\n",
        "!pip install git+https://github.com/nlpub/pymystem3"
      ],
      "metadata": {
        "colab": {
          "base_uri": "https://localhost:8080/"
        },
        "id": "P-K4o89mEkIs",
        "outputId": "cfae5092-8c8a-41a5-850b-205f57330c25"
      },
      "execution_count": null,
      "outputs": [
        {
          "output_type": "stream",
          "name": "stdout",
          "text": [
            "Requirement already satisfied: nltk in /usr/local/lib/python3.10/dist-packages (3.8.1)\n",
            "Requirement already satisfied: click in /usr/local/lib/python3.10/dist-packages (from nltk) (8.1.7)\n",
            "Requirement already satisfied: joblib in /usr/local/lib/python3.10/dist-packages (from nltk) (1.3.2)\n",
            "Requirement already satisfied: regex>=2021.8.3 in /usr/local/lib/python3.10/dist-packages (from nltk) (2023.6.3)\n",
            "Requirement already satisfied: tqdm in /usr/local/lib/python3.10/dist-packages (from nltk) (4.66.1)\n",
            "Collecting git+https://github.com/nlpub/pymystem3\n",
            "  Cloning https://github.com/nlpub/pymystem3 to /tmp/pip-req-build-6b_s5zxv\n",
            "  Running command git clone --filter=blob:none --quiet https://github.com/nlpub/pymystem3 /tmp/pip-req-build-6b_s5zxv\n",
            "  Resolved https://github.com/nlpub/pymystem3 to commit 5fcc151c7d80c5babd1a6f20e710f3ace81db98d\n",
            "  \u001b[1;31merror\u001b[0m: \u001b[1msubprocess-exited-with-error\u001b[0m\n",
            "  \n",
            "  \u001b[31m×\u001b[0m \u001b[32mpython setup.py egg_info\u001b[0m did not run successfully.\n",
            "  \u001b[31m│\u001b[0m exit code: \u001b[1;36m1\u001b[0m\n",
            "  \u001b[31m╰─>\u001b[0m See above for output.\n",
            "  \n",
            "  \u001b[1;35mnote\u001b[0m: This error originates from a subprocess, and is likely not a problem with pip.\n",
            "  Preparing metadata (setup.py) ... \u001b[?25l\u001b[?25herror\n",
            "\u001b[1;31merror\u001b[0m: \u001b[1mmetadata-generation-failed\u001b[0m\n",
            "\n",
            "\u001b[31m×\u001b[0m Encountered error while generating package metadata.\n",
            "\u001b[31m╰─>\u001b[0m See above for output.\n",
            "\n",
            "\u001b[1;35mnote\u001b[0m: This is an issue with the package mentioned above, not pip.\n",
            "\u001b[1;36mhint\u001b[0m: See above for details.\n"
          ]
        }
      ]
    },
    {
      "cell_type": "code",
      "source": [
        "import nltk\n",
        "from nltk.stem.snowball import SnowballStemmer\n",
        "from nltk.stem import WordNetLemmatizer\n",
        "\n",
        "nltk.download('wordnet')\n",
        "\n",
        "import re\n",
        "from pymystem3 import Mystem\n",
        "\n",
        "\n",
        "def steem_lemm(frase):\n",
        "    if type(frase) != str:\n",
        "        frase = ' '.join(frase)\n",
        "\n",
        "    m = Mystem()\n",
        "    stemmer = SnowballStemmer(\"russian\")\n",
        "\n",
        "    lemmas = re.sub(\"[^\\w]\", \" \",  frase)\n",
        "    lemmas = m.lemmatize(lemmas)\n",
        "\n",
        "    return [stemmer.stem(word) for word in lemmas if word[0] != ' ' and word.isalpha()]\n",
        "\n",
        "\n",
        "def matching(words, targets):\n",
        "    matched = dict.fromkeys(targets, 0)\n",
        "\n",
        "    for w in words:\n",
        "        if w in targets:\n",
        "          matched[w] += 1\n",
        "    return [key for key, value in matched.items() if value > 0]\n",
        "\n",
        "\n",
        "\n"
      ],
      "metadata": {
        "colab": {
          "base_uri": "https://localhost:8080/"
        },
        "id": "hf2LCDg5Eqdw",
        "outputId": "3316cda9-276c-4d0b-9dbe-a5d366172858"
      },
      "execution_count": null,
      "outputs": [
        {
          "output_type": "stream",
          "name": "stderr",
          "text": [
            "[nltk_data] Downloading package wordnet to /root/nltk_data...\n",
            "[nltk_data]   Package wordnet is already up-to-date!\n"
          ]
        }
      ]
    },
    {
      "cell_type": "code",
      "source": [
        "targets = [\n",
        "    'Ипотека',\n",
        "    'Вклад',\n",
        "    'Консультация',\n",
        "    'Сделка',\n",
        "    'Счёт',\n",
        "    'Карта',\n",
        "    'Погашение',\n",
        "    'Валюта',\n",
        "    'Перевод',\n",
        "    'Оплата',\n",
        "    'Налог',\n",
        "    'Пенсия',\n",
        "    'Консультант',\n",
        "    'Сотрудник',\n",
        "    'Представитель',\n",
        "    'ИТ',\n",
        "    'Кредит',\n",
        "    'ИП',\n",
        "    'бизнес',\n",
        "    'юр',\n",
        "    'физ',\n",
        "    'физические',\n",
        "    'юридические',\n",
        "    'недвижимость',\n",
        "    'привелегии',\n",
        "    'льготы',\n",
        "    'консульт',\n",
        "    'сбережения',\n",
        "    'корпорат',\n",
        "    'компания'\n",
        "]\n"
      ],
      "metadata": {
        "id": "aYeBnSaTHxiL"
      },
      "execution_count": null,
      "outputs": []
    },
    {
      "cell_type": "code",
      "source": [
        "targets = steem_lemm(targets)\n",
        "len(targets)\n",
        "targets"
      ],
      "metadata": {
        "colab": {
          "base_uri": "https://localhost:8080/"
        },
        "id": "Roo7LyN7QIWw",
        "outputId": "8d18d102-557e-4e0f-f1e2-b621c0a1d751"
      },
      "execution_count": null,
      "outputs": [
        {
          "output_type": "execute_result",
          "data": {
            "text/plain": [
              "['ипотек',\n",
              " 'вклад',\n",
              " 'консультац',\n",
              " 'сделк',\n",
              " 'счет',\n",
              " 'карт',\n",
              " 'погашен',\n",
              " 'валют',\n",
              " 'перевод',\n",
              " 'оплат',\n",
              " 'налог',\n",
              " 'пенс',\n",
              " 'консультант',\n",
              " 'сотрудник',\n",
              " 'представител',\n",
              " 'ит',\n",
              " 'кред',\n",
              " 'ипа',\n",
              " 'бизнес',\n",
              " 'юр',\n",
              " 'физ',\n",
              " 'физическ',\n",
              " 'юридическ',\n",
              " 'недвижим',\n",
              " 'привелег',\n",
              " 'льгот',\n",
              " 'консульт',\n",
              " 'сбережен',\n",
              " 'корпорат',\n",
              " 'компан']"
            ]
          },
          "metadata": {},
          "execution_count": 38
        }
      ]
    },
    {
      "cell_type": "code",
      "source": [
        "TAGS = {\n",
        "    'base' : ['Консультация', 'Ипотека', 'Вклады и сбережения', 'Выдача и погашение кредитов', 'Карточная продукция', 'Заключение сделок', 'Оплата счетов'],\n",
        "    'user_type' : ['Физлицо', 'ИП', 'Юридическое лицо', 'Привелегированные клиенты', 'Корпоративные клиенты'],\n",
        "    'add_services' : ['ИТ продукты', 'Сотрудничество', 'Валюта и инвестиции', ]\n",
        "}\n",
        "\n",
        "\n",
        "TARGET_TAG = {\n",
        "    'ипотек': ['Ипотека'],\n",
        "    'вклад ': ['Вклады и сбережения'],\n",
        "    'консультац' : ['Консультация'],\n",
        "    'сделк' : ['Вклады и сбережения', 'Заключение сделок', 'Ипотека'],\n",
        "    'счет' : ['Карточная продукция', 'Вклады и сбережения', 'Оплата счетов'],\n",
        "    'карт' : ['Карточная продукция'],\n",
        "    'погас' : ['Оплата счетов', 'Выдача и погашение кредитов', 'Карточная продукция', 'Ипотека'],\n",
        "    'валют' : ['Валюта и инвестиции', 'Вклады и сбережения', ],\n",
        "    'перевод' : ['Валюта и инвестиции', 'Оплата счетов'],\n",
        "    'оплат' : ['Оплата счетов', 'Выдача и погашение кредитов', 'Карточная продукция', 'Ипотека'],\n",
        "    'налог' : ['Оплата счетов'],\n",
        "    'пенс' : ['Оплата счетов'],\n",
        "    'консультант' : ['Консультация', 'Ипотека', 'Вклады и сбережения', 'Выдача и погашение кредитов', ],\n",
        "    'сотрудник' : ['Консультация', 'Сотрудничество'],\n",
        "    'представител' : ['Консультация'],\n",
        "    'ит' : ['ИТ продукты', 'Сотрудничество', 'Корпоративные клиенты'],\n",
        "    'кред' : ['Выдача и погашение кредитов', 'Ипотека'],\n",
        "    'ип' : ['ИП'],\n",
        "    'бизнес' : ['Корпоративные клиенты', 'Привелегированные клиенты'],\n",
        "    'юр' : ['Юридическое лицо'],\n",
        "    'физ' : ['Физлицо'],\n",
        "    'физическ' : ['Физлицо'],\n",
        "    'юридическ' : ['Юридическое лицо'],\n",
        "    'недвижим' : ['Ипотека'],\n",
        "    'привелег' : ['Привелегированные клиенты'],\n",
        "    'льгот' : ['Привелегированные клиенты', 'Корпоративные клиенты'],\n",
        "    'консульт' : ['Консультация', 'Ипотека', 'Вклады и сбережения', 'Выдача и погашение кредитов', ],\n",
        "    'сберега' : ['Вклады и сбережения', 'Валюта и инвестиции'],\n",
        "    'корпорат' : ['ИТ продукты', 'Корпоративные клиенты'],\n",
        "    'компа': ['ИТ продукты', 'Корпоративные клиенты'],\n",
        "}\n",
        "\n",
        "\n",
        "BANKTYPE_TARGETS = { # 0/1 means has base service or not, List of clients, List of add services\n",
        "    'Универсальный' : [1, ['Физлицо', 'ИП', 'Юридическое лицо', 'Привелегированные клиенты', 'Корпоративные клиенты'], ['Сотрудничество', 'Валюта и инвестиции',]],\n",
        "    'Стандарт' : [1, ['Физлицо', 'ИП', 'Юридическое лицо'], ['Сотрудничество']],\n",
        "    'Розничный (РБ)' : [1, ['Физлицо', 'ИП', 'Юридическое лицо', 'Привелегированные клиенты', 'Корпоративные клиенты'], ['ИТ продукты', 'Сотрудничество', 'Валюта и инвестиции', ]],\n",
        "    'Микро (РБ)' : [1, ['Физлицо', 'ИП'], ['Сотрудничество']],\n",
        "    'Мини_расш' : [1, ['Физлицо', 'ИП', 'Юридическое лицо'], ['Сотрудничество']],\n",
        "    'Корпоративный' : [1, ['Физлицо', 'ИП', 'Юридическое лицо', 'Корпоративные клиенты'], ['ИТ продукты']],\n",
        "    'Привилегия (РБ)' : [1, ['Физлицо', 'ИП', 'Юридическое лицо', 'Привелегированные клиенты'], ['Сотрудничество', 'Валюта и инвестиции']],\n",
        "    'Стандарт+бизнес отдел' : [1, ['Физлицо', 'ИП', 'Юридическое лицо', 'Корпоративные клиенты'], ['ИТ продукты', 'Сотрудничество']],\n",
        "    'Прайм (РБ)' : [1, ['Физлицо', 'ИП', 'Юридическое лицо', 'Привелегированные клиенты', 'Корпоративные клиенты'], ['ИТ продукты', 'Сотрудничество', 'Валюта и инвестиции', ]],\n",
        "    'Филиал' : [1, ['Физлицо', 'ИП'], []],\n",
        "    'Брокер' : [0, ['Физлицо', 'ИП', 'Юридическое лицо', 'Привелегированные клиенты', 'Корпоративные клиенты'], ['ИТ продукты', 'Валюта и инвестиции']],\n",
        "    'Микро 2(3)' : [1, ['Физлицо', 'ИП'], []],\n",
        "}\n",
        "\n",
        "\n"
      ],
      "metadata": {
        "id": "DA_KtqOSZk6H"
      },
      "execution_count": null,
      "outputs": []
    },
    {
      "cell_type": "code",
      "source": [
        "import json\n",
        "\n",
        "data = {'name': 'John', 'age': 30, 'city': 'New York'}\n",
        "\n",
        "with open('/content/drive/MyDrive/data.json', 'w') as file:\n",
        "    json.dump({'tags': TAGS, 'targets': TARGET_TAG, 'bank_tags' : BANKTYPE_TARGETS}, file, indent='\\t', ensure_ascii=False,)"
      ],
      "metadata": {
        "id": "Oc9OIdRQ87Fj"
      },
      "execution_count": null,
      "outputs": []
    },
    {
      "cell_type": "code",
      "source": [
        "frase = 'проверяем работоспособность, смотри, ТЦ, рядом с парком! 5 из 5!?!? лол ...'\n",
        "\n",
        "mystr = frase\n",
        "wordList = re.sub(\"[^\\w]\", \" \",  mystr).split()"
      ],
      "metadata": {
        "id": "x7CjOJADJeEW"
      },
      "execution_count": null,
      "outputs": []
    },
    {
      "cell_type": "code",
      "source": [
        "wordList"
      ],
      "metadata": {
        "colab": {
          "base_uri": "https://localhost:8080/"
        },
        "id": "_WnTTFZfJoW7",
        "outputId": "e9cd2953-7b9d-416e-80e7-1d646b782c14"
      },
      "execution_count": null,
      "outputs": [
        {
          "output_type": "execute_result",
          "data": {
            "text/plain": [
              "['проверяем',\n",
              " 'работоспособность',\n",
              " 'смотри',\n",
              " 'ТЦ',\n",
              " 'рядом',\n",
              " 'с',\n",
              " 'парком',\n",
              " '5',\n",
              " 'из',\n",
              " '5',\n",
              " 'лол']"
            ]
          },
          "metadata": {},
          "execution_count": 30
        }
      ]
    },
    {
      "cell_type": "code",
      "source": [
        "import requests\n",
        "from bs4 import BeautifulSoup\n",
        "import time\n",
        "\n",
        "start_time = time.time()\n",
        "\n",
        "\n",
        "url = 'https://yandex.ru/maps/org/bank_vtb/238404372821/reviews/'\n",
        "\n",
        "response = requests.get(url)\n",
        "\n",
        "soup = BeautifulSoup(response.content, 'html.parser')\n",
        "\n",
        "reviews_elements = soup.find_all('span', class_ =\"business-review-view__body-text\")\n",
        "\n",
        "texts = [matching(steem_lemm(text.get_text()), targets) for text in reviews_elements]\n",
        "\n",
        "print(texts)\n",
        "\n",
        "end_time = time.time()\n",
        "\n",
        "elapsed_time = end_time - start_time\n",
        "print('Elapsed time: ', elapsed_time)"
      ],
      "metadata": {
        "colab": {
          "base_uri": "https://localhost:8080/",
          "height": 376
        },
        "id": "OYd7SD_vdZSc",
        "outputId": "84213aee-ce56-4c2f-b22f-9304317e743d"
      },
      "execution_count": 1,
      "outputs": [
        {
          "output_type": "error",
          "ename": "NameError",
          "evalue": "ignored",
          "traceback": [
            "\u001b[0;31m---------------------------------------------------------------------------\u001b[0m",
            "\u001b[0;31mNameError\u001b[0m                                 Traceback (most recent call last)",
            "\u001b[0;32m<ipython-input-1-445736478694>\u001b[0m in \u001b[0;36m<cell line: 17>\u001b[0;34m()\u001b[0m\n\u001b[1;32m     15\u001b[0m \u001b[0mreviews_elements\u001b[0m \u001b[0;34m=\u001b[0m \u001b[0msoup\u001b[0m\u001b[0;34m.\u001b[0m\u001b[0mfind_all\u001b[0m\u001b[0;34m(\u001b[0m\u001b[0;34m'span'\u001b[0m\u001b[0;34m,\u001b[0m \u001b[0mclass_\u001b[0m \u001b[0;34m=\u001b[0m\u001b[0;34m\"business-review-view__body-text\"\u001b[0m\u001b[0;34m)\u001b[0m\u001b[0;34m\u001b[0m\u001b[0;34m\u001b[0m\u001b[0m\n\u001b[1;32m     16\u001b[0m \u001b[0;34m\u001b[0m\u001b[0m\n\u001b[0;32m---> 17\u001b[0;31m \u001b[0mtexts\u001b[0m \u001b[0;34m=\u001b[0m \u001b[0;34m[\u001b[0m\u001b[0mmatching\u001b[0m\u001b[0;34m(\u001b[0m\u001b[0msteem_lemm\u001b[0m\u001b[0;34m(\u001b[0m\u001b[0mtext\u001b[0m\u001b[0;34m.\u001b[0m\u001b[0mget_text\u001b[0m\u001b[0;34m(\u001b[0m\u001b[0;34m)\u001b[0m\u001b[0;34m)\u001b[0m\u001b[0;34m,\u001b[0m \u001b[0mtargets\u001b[0m\u001b[0;34m)\u001b[0m \u001b[0;32mfor\u001b[0m \u001b[0mtext\u001b[0m \u001b[0;32min\u001b[0m \u001b[0mreviews_elements\u001b[0m\u001b[0;34m]\u001b[0m\u001b[0;34m\u001b[0m\u001b[0;34m\u001b[0m\u001b[0m\n\u001b[0m\u001b[1;32m     18\u001b[0m \u001b[0;34m\u001b[0m\u001b[0m\n\u001b[1;32m     19\u001b[0m \u001b[0mprint\u001b[0m\u001b[0;34m(\u001b[0m\u001b[0mtexts\u001b[0m\u001b[0;34m)\u001b[0m\u001b[0;34m\u001b[0m\u001b[0;34m\u001b[0m\u001b[0m\n",
            "\u001b[0;32m<ipython-input-1-445736478694>\u001b[0m in \u001b[0;36m<listcomp>\u001b[0;34m(.0)\u001b[0m\n\u001b[1;32m     15\u001b[0m \u001b[0mreviews_elements\u001b[0m \u001b[0;34m=\u001b[0m \u001b[0msoup\u001b[0m\u001b[0;34m.\u001b[0m\u001b[0mfind_all\u001b[0m\u001b[0;34m(\u001b[0m\u001b[0;34m'span'\u001b[0m\u001b[0;34m,\u001b[0m \u001b[0mclass_\u001b[0m \u001b[0;34m=\u001b[0m\u001b[0;34m\"business-review-view__body-text\"\u001b[0m\u001b[0;34m)\u001b[0m\u001b[0;34m\u001b[0m\u001b[0;34m\u001b[0m\u001b[0m\n\u001b[1;32m     16\u001b[0m \u001b[0;34m\u001b[0m\u001b[0m\n\u001b[0;32m---> 17\u001b[0;31m \u001b[0mtexts\u001b[0m \u001b[0;34m=\u001b[0m \u001b[0;34m[\u001b[0m\u001b[0mmatching\u001b[0m\u001b[0;34m(\u001b[0m\u001b[0msteem_lemm\u001b[0m\u001b[0;34m(\u001b[0m\u001b[0mtext\u001b[0m\u001b[0;34m.\u001b[0m\u001b[0mget_text\u001b[0m\u001b[0;34m(\u001b[0m\u001b[0;34m)\u001b[0m\u001b[0;34m)\u001b[0m\u001b[0;34m,\u001b[0m \u001b[0mtargets\u001b[0m\u001b[0;34m)\u001b[0m \u001b[0;32mfor\u001b[0m \u001b[0mtext\u001b[0m \u001b[0;32min\u001b[0m \u001b[0mreviews_elements\u001b[0m\u001b[0;34m]\u001b[0m\u001b[0;34m\u001b[0m\u001b[0;34m\u001b[0m\u001b[0m\n\u001b[0m\u001b[1;32m     18\u001b[0m \u001b[0;34m\u001b[0m\u001b[0m\n\u001b[1;32m     19\u001b[0m \u001b[0mprint\u001b[0m\u001b[0;34m(\u001b[0m\u001b[0mtexts\u001b[0m\u001b[0;34m)\u001b[0m\u001b[0;34m\u001b[0m\u001b[0;34m\u001b[0m\u001b[0m\n",
            "\u001b[0;31mNameError\u001b[0m: name 'matching' is not defined"
          ]
        }
      ]
    },
    {
      "cell_type": "code",
      "source": [
        "import requests\n",
        "from bs4 import BeautifulSoup\n",
        "import time\n",
        "import numpy as np\n",
        "\n",
        "start_time = time.time()\n",
        "\n",
        "\n",
        "url = 'https://yandex.ru/maps/org/bank_vtb/238404372821/reviews/'\n",
        "\n",
        "response = requests.get(url)\n",
        "\n",
        "soup = BeautifulSoup(response.content, 'html.parser')\n",
        "\n",
        "reviews_elements = soup.find_all('span', class_ =\"business-review-view__body-text\")\n",
        "\n",
        "texts = [np.intersect1d(np.array(steem_lemm(text.get_text())), np.array(targets)) for text in reviews_elements]\n",
        "\n",
        "print(texts)\n",
        "\n",
        "end_time = time.time()\n",
        "\n",
        "elapsed_time = end_time - start_time\n",
        "print('Elapsed time: ', elapsed_time)"
      ],
      "metadata": {
        "colab": {
          "base_uri": "https://localhost:8080/"
        },
        "id": "mIf7gfTr6PBu",
        "outputId": "3203c142-6a17-42ce-b372-4aa4089d19bd"
      },
      "execution_count": null,
      "outputs": [
        {
          "output_type": "stream",
          "name": "stdout",
          "text": [
            "[array(['вклад', 'сотрудник'], dtype='<U12'), array(['сотрудник'], dtype='<U16'), array(['карт', 'сотрудник'], dtype='<U16'), array(['вклад', 'консультант', 'представител', 'сотрудник'], dtype='<U12'), array(['карт'], dtype='<U12'), array(['сотрудник'], dtype='<U12'), array(['счет'], dtype='<U12'), array([], dtype='<U12'), array([], dtype='<U12'), array([], dtype='<U14'), array(['сотрудник'], dtype='<U12'), array([], dtype='<U12'), array([], dtype='<U12'), array([], dtype='<U12'), array([], dtype='<U12'), array(['сотрудник'], dtype='<U12'), array([], dtype='<U12'), array(['сотрудник'], dtype='<U12'), array([], dtype='<U12'), array(['сделк'], dtype='<U12'), array(['привелег'], dtype='<U12'), array(['карт'], dtype='<U12'), array(['карт', 'сотрудник'], dtype='<U13'), array([], dtype='<U12'), array([], dtype='<U12'), array(['карт', 'счет'], dtype='<U12'), array([], dtype='<U12'), array(['сотрудник'], dtype='<U13'), array(['счет'], dtype='<U12'), array([], dtype='<U12'), array([], dtype='<U14'), array([], dtype='<U12'), array(['вклад', 'карт'], dtype='<U12'), array([], dtype='<U13'), array([], dtype='<U12'), array([], dtype='<U12'), array([], dtype='<U12'), array(['сотрудник'], dtype='<U12'), array([], dtype='<U12'), array(['вклад'], dtype='<U12'), array([], dtype='<U12'), array([], dtype='<U12'), array([], dtype='<U12'), array([], dtype='<U12'), array([], dtype='<U12'), array(['консультац', 'сотрудник'], dtype='<U13'), array(['карт', 'консультант'], dtype='<U12'), array([], dtype='<U12'), array(['карт', 'сотрудник'], dtype='<U12'), array(['сотрудник'], dtype='<U12')]\n",
            "Elapsed time:  47.21206569671631\n"
          ]
        }
      ]
    }
  ]
}